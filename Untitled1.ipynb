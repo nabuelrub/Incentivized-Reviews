{
 "cells": [
  {
   "cell_type": "code",
   "execution_count": 6,
   "metadata": {
    "collapsed": false
   },
   "outputs": [
    {
     "name": "stdout",
     "output_type": "stream",
     "text": [
      "<generator object unicode_csv_reader at 0x7f5094481f50>\n"
     ]
    }
   ],
   "source": [
    "import csv,codecs\n",
    "\n",
    "def unicode_csv_reader(unicode_csv_data, dialect=csv.excel, **kwargs):\n",
    "    # csv.py doesn't do Unicode; encode temporarily as UTF-8:\n",
    "    csv_reader = csv.reader(utf_8_encoder(unicode_csv_data),\n",
    "                            dialect=dialect, **kwargs)\n",
    "    for row in csv_reader:\n",
    "        # decode UTF-8 back to Unicode, cell by cell:\n",
    "        yield [unicode(cell, 'utf-8') for cell in row]\n",
    "\n",
    "def utf_8_encoder(unicode_csv_data):\n",
    "    for line in unicode_csv_data:\n",
    "        yield line.encode('utf-8')\n",
    "x = unicode_csv_reader('sample.csv')\n",
    "print x"
   ]
  },
  {
   "cell_type": "code",
   "execution_count": 23,
   "metadata": {
    "collapsed": false
   },
   "outputs": [],
   "source": [
    "with codecs.open(\"sample.csv\",\"r\",\"latin-1\") as f:\n",
    "    arr = [i.rsplit(\"\\n\")[0] for i in f]\n",
    "    arr = [i.rsplit(\"\\t\") for i in arr]\n",
    "for i in arr:\n",
    "    "
   ]
  }
 ],
 "metadata": {
  "kernelspec": {
   "display_name": "Python 2",
   "language": "python",
   "name": "python2"
  },
  "language_info": {
   "codemirror_mode": {
    "name": "ipython",
    "version": 2
   },
   "file_extension": ".py",
   "mimetype": "text/x-python",
   "name": "python",
   "nbconvert_exporter": "python",
   "pygments_lexer": "ipython2",
   "version": "2.7.11+"
  }
 },
 "nbformat": 4,
 "nbformat_minor": 0
}
