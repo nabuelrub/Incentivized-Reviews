{
 "cells": [
  {
   "cell_type": "code",
   "execution_count": 1,
   "metadata": {
    "collapsed": false,
    "scrolled": true
   },
   "outputs": [
    {
     "ename": "SyntaxError",
     "evalue": "unexpected character after line continuation character (extractAppIdentifiers.py, line 190)",
     "output_type": "error",
     "traceback": [
      "\u001b[1;36m  File \u001b[1;32m\"extractAppIdentifiers.py\"\u001b[1;36m, line \u001b[1;32m190\u001b[0m\n\u001b[1;33m    resultApp.write(rev[0]+\"\\t\"+rev[1]+\"\\t\"+rev[2]+\"\\t\"+rev[3]+\"\\t\"+rev[4]+\"\\t+Ans+\"\\n\")\u001b[0m\n\u001b[1;37m                                                                                        ^\u001b[0m\n\u001b[1;31mSyntaxError\u001b[0m\u001b[1;31m:\u001b[0m unexpected character after line continuation character\n"
     ]
    }
   ],
   "source": [
    "#-*- coding: utf-8 -*-\n",
    "\n",
    "\n",
    "import csv\n",
    "import codecs\n",
    "from preprocessing import *\n",
    "from extractCodes import *\n",
    "from extractAppIdentifiers import *\n",
    "import os,sys\n",
    "import numpy as np\n",
    "from nltk.corpus import words\n",
    "import re\n",
    "import nltk\n",
    "\n",
    "\n",
    "def main():\n",
    "    data,keywords,whiteListCodes,whiteListApps = read_files('sample1.csv','Keywords.csv','whiteListCodes.csv','whiteListApps.csv')\n",
    "    print len(data),len(keywords),len(whiteListCodes),len(whiteListApps)\n",
    "    data = filter_keywords(data, keywords)\n",
    "    print \"Number of Potential Promotional Reviews: \",len(data)\n",
    "    #print keywords\n",
    "    promoRev = ExtractCodes(data,whiteListCodes)\n",
    "    f = codecs.open(\"extractcodes.txt\",'w')\n",
    "    for i in promoRev:\n",
    "        f.write(i[4]+\"\\t\"+i[0]+\"\\t\"+i[1]+\"\\t\"+i[2]+\"\\t\"+i[3]+\"\\n\")\n",
    "    f.close()\n",
    "    print len(promoRev), promoRev[0]\n",
    "    promoRev = ExtractAppsNames(promoRev,whiteListApps)\n",
    "    \n",
    "__author__ = \"Noor Abuelrub\"\n",
    "__copyright__ = \"GPL\"\n",
    "__license__ = \"GPL\"\n",
    "__email__ = \"nabuelrub@unm.edu\"\n",
    "\n",
    "if __name__ == '__main__':\n",
    "    main()\n",
    "        "
   ]
  },
  {
   "cell_type": "code",
   "execution_count": null,
   "metadata": {
    "collapsed": false
   },
   "outputs": [],
   "source": []
  },
  {
   "cell_type": "code",
   "execution_count": null,
   "metadata": {
    "collapsed": false
   },
   "outputs": [],
   "source": []
  },
  {
   "cell_type": "code",
   "execution_count": null,
   "metadata": {
    "collapsed": false
   },
   "outputs": [],
   "source": []
  }
 ],
 "metadata": {
  "kernelspec": {
   "display_name": "Python 2",
   "language": "python",
   "name": "python2"
  },
  "language_info": {
   "codemirror_mode": {
    "name": "ipython",
    "version": 2
   },
   "file_extension": ".py",
   "mimetype": "text/x-python",
   "name": "python",
   "nbconvert_exporter": "python",
   "pygments_lexer": "ipython2",
   "version": "2.7.11+"
  }
 },
 "nbformat": 4,
 "nbformat_minor": 0
}
